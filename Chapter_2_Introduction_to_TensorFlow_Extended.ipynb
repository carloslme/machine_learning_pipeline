{
  "nbformat": 4,
  "nbformat_minor": 0,
  "metadata": {
    "colab": {
      "name": "Chapter_2_Introduction_to_TensorFlow_Extended.ipynb",
      "provenance": [],
      "authorship_tag": "ABX9TyPfgY7fruioQR6sOGRsyMRu",
      "include_colab_link": true
    },
    "kernelspec": {
      "name": "python3",
      "display_name": "Python 3"
    }
  },
  "cells": [
    {
      "cell_type": "markdown",
      "metadata": {
        "id": "view-in-github",
        "colab_type": "text"
      },
      "source": [
        "<a href=\"https://colab.research.google.com/github/carloslme/machine_learning_pipeline/blob/chapter2/Chapter_2_Introduction_to_TensorFlow_Extended.ipynb\" target=\"_parent\"><img src=\"https://colab.research.google.com/assets/colab-badge.svg\" alt=\"Open In Colab\"/></a>"
      ]
    },
    {
      "cell_type": "code",
      "metadata": {
        "id": "Cj_iF9jVLMuu"
      },
      "source": [
        "!pip install tfx"
      ],
      "execution_count": null,
      "outputs": []
    },
    {
      "cell_type": "code",
      "metadata": {
        "id": "-HSecrHoKA_I"
      },
      "source": [
        "import tensorflow_data_validation as tfdv\r\n",
        "import tensorflow_transform as tft\r\n",
        "import tensorflow_transform.beam as tft_beam"
      ],
      "execution_count": null,
      "outputs": []
    },
    {
      "cell_type": "code",
      "metadata": {
        "id": "gjayCdg9LLDf"
      },
      "source": [
        "from tfx.components import ExampleValidator \r\n",
        "from tfx.components import Evaluator \r\n",
        "from tfx.components import Transform"
      ],
      "execution_count": null,
      "outputs": []
    },
    {
      "cell_type": "markdown",
      "metadata": {
        "id": "gGCL_L0BNWHz"
      },
      "source": [
        "### Overview of TFX Components\r\n",
        "The generic internals of a component are always: \r\n",
        "* Receive some input \r\n",
        "* Perform an action \r\n",
        "* Store the final result\r\n",
        "\r\n",
        "In TFX terms, the three internal parts of the component are called the driver , executor , and publisher . The driver handles the querying of the metadata store. The executor performs the actions of the components. And the publisher manages the saving of the output metadata in the MetadataStore.\r\n",
        "\r\n",
        "The inputs and outputs of the components are called artifacts . Examples of artifacts include raw input data, preprocessed data, and trained models. Each artifact is associated with metadata stored in the MetadataStore. The artifact metadata consists of an artifact type as well as artifact properties. This artifact setup guarantees that the components can exchange data effectively."
      ]
    },
    {
      "cell_type": "code",
      "metadata": {
        "id": "yi_7PeL2NHTH"
      },
      "source": [
        ""
      ],
      "execution_count": null,
      "outputs": []
    }
  ]
}